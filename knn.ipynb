{
 "cells": [
  {
   "cell_type": "code",
   "execution_count": 1,
   "metadata": {},
   "outputs": [],
   "source": [
    "import pandas as pd\n",
    "import numpy as np\n",
    "import csv"
   ]
  },
  {
   "cell_type": "code",
   "execution_count": 14,
   "metadata": {},
   "outputs": [],
   "source": [
    "workout_db = pd.read_csv('workout_1.csv',usecols=['workout','link','full_body','lower_body','upper_body','core','time1','time2','beginner','advanced'],\n",
    "                        dtype={'workout':'str','link':'str','full_body':'float32','lower_body':'float32','upper_body':'float32',\n",
    "                               'core':'float32','time1':'float32','time2':'float32',\n",
    "                               'beginner':'float32','advanced':'float32'})"
   ]
  },
  {
   "cell_type": "code",
   "execution_count": 15,
   "metadata": {
    "scrolled": true
   },
   "outputs": [
    {
     "data": {
      "text/html": [
       "<div>\n",
       "<style scoped>\n",
       "    .dataframe tbody tr th:only-of-type {\n",
       "        vertical-align: middle;\n",
       "    }\n",
       "\n",
       "    .dataframe tbody tr th {\n",
       "        vertical-align: top;\n",
       "    }\n",
       "\n",
       "    .dataframe thead th {\n",
       "        text-align: right;\n",
       "    }\n",
       "</style>\n",
       "<table border=\"1\" class=\"dataframe\">\n",
       "  <thead>\n",
       "    <tr style=\"text-align: right;\">\n",
       "      <th></th>\n",
       "      <th>workout</th>\n",
       "      <th>link</th>\n",
       "      <th>full_body</th>\n",
       "      <th>lower_body</th>\n",
       "      <th>upper_body</th>\n",
       "      <th>core</th>\n",
       "      <th>time1</th>\n",
       "      <th>time2</th>\n",
       "      <th>beginner</th>\n",
       "      <th>advanced</th>\n",
       "    </tr>\n",
       "  </thead>\n",
       "  <tbody>\n",
       "    <tr>\n",
       "      <th>0</th>\n",
       "      <td>Basic Workout</td>\n",
       "      <td>www.sparkpeople.com/resource/fitness_plan_gene...</td>\n",
       "      <td>1000.0</td>\n",
       "      <td>0.2</td>\n",
       "      <td>0.2</td>\n",
       "      <td>0.1</td>\n",
       "      <td>100.0</td>\n",
       "      <td>0.2</td>\n",
       "      <td>10.0</td>\n",
       "      <td>0.85</td>\n",
       "    </tr>\n",
       "    <tr>\n",
       "      <th>1</th>\n",
       "      <td>Mat Workout</td>\n",
       "      <td>https://www.sparkpeople.com/resource/fitness_p...</td>\n",
       "      <td>1000.0</td>\n",
       "      <td>0.2</td>\n",
       "      <td>0.2</td>\n",
       "      <td>0.1</td>\n",
       "      <td>100.0</td>\n",
       "      <td>0.2</td>\n",
       "      <td>10.0</td>\n",
       "      <td>0.85</td>\n",
       "    </tr>\n",
       "    <tr>\n",
       "      <th>2</th>\n",
       "      <td>Standing Workout</td>\n",
       "      <td>https://www.sparkpeople.com/resource/fitness_p...</td>\n",
       "      <td>1000.0</td>\n",
       "      <td>0.2</td>\n",
       "      <td>0.2</td>\n",
       "      <td>0.1</td>\n",
       "      <td>100.0</td>\n",
       "      <td>0.2</td>\n",
       "      <td>10.0</td>\n",
       "      <td>0.85</td>\n",
       "    </tr>\n",
       "    <tr>\n",
       "      <th>3</th>\n",
       "      <td>Basic Balance Challenge</td>\n",
       "      <td>https://www.sparkpeople.com/resource/fitness_p...</td>\n",
       "      <td>1000.0</td>\n",
       "      <td>0.2</td>\n",
       "      <td>0.2</td>\n",
       "      <td>0.1</td>\n",
       "      <td>100.0</td>\n",
       "      <td>0.2</td>\n",
       "      <td>10.0</td>\n",
       "      <td>0.85</td>\n",
       "    </tr>\n",
       "    <tr>\n",
       "      <th>4</th>\n",
       "      <td>Twist Workout</td>\n",
       "      <td>https://www.sparkpeople.com/resource/fitness_p...</td>\n",
       "      <td>1000.0</td>\n",
       "      <td>0.2</td>\n",
       "      <td>0.2</td>\n",
       "      <td>0.1</td>\n",
       "      <td>100.0</td>\n",
       "      <td>0.2</td>\n",
       "      <td>10.0</td>\n",
       "      <td>0.85</td>\n",
       "    </tr>\n",
       "  </tbody>\n",
       "</table>\n",
       "</div>"
      ],
      "text/plain": [
       "                   workout                                               link  \\\n",
       "0            Basic Workout  www.sparkpeople.com/resource/fitness_plan_gene...   \n",
       "1              Mat Workout  https://www.sparkpeople.com/resource/fitness_p...   \n",
       "2         Standing Workout  https://www.sparkpeople.com/resource/fitness_p...   \n",
       "3  Basic Balance Challenge  https://www.sparkpeople.com/resource/fitness_p...   \n",
       "4            Twist Workout  https://www.sparkpeople.com/resource/fitness_p...   \n",
       "\n",
       "   full_body  lower_body  upper_body  core  time1  time2  beginner  advanced  \n",
       "0     1000.0         0.2         0.2   0.1  100.0    0.2      10.0      0.85  \n",
       "1     1000.0         0.2         0.2   0.1  100.0    0.2      10.0      0.85  \n",
       "2     1000.0         0.2         0.2   0.1  100.0    0.2      10.0      0.85  \n",
       "3     1000.0         0.2         0.2   0.1  100.0    0.2      10.0      0.85  \n",
       "4     1000.0         0.2         0.2   0.1  100.0    0.2      10.0      0.85  "
      ]
     },
     "execution_count": 15,
     "metadata": {},
     "output_type": "execute_result"
    }
   ],
   "source": [
    "workout_db.head()"
   ]
  },
  {
   "cell_type": "code",
   "execution_count": 16,
   "metadata": {},
   "outputs": [
    {
     "data": {
      "text/plain": [
       "(53, 10)"
      ]
     },
     "execution_count": 16,
     "metadata": {},
     "output_type": "execute_result"
    }
   ],
   "source": [
    "workout_db.shape"
   ]
  },
  {
   "cell_type": "code",
   "execution_count": 17,
   "metadata": {},
   "outputs": [
    {
     "name": "stdout",
     "output_type": "stream",
     "text": [
      "['workout', 'link', 'full_body', 'lower_body', 'upper_body', 'core', 'time1', 'time2', 'beginner', 'advanced']\n"
     ]
    },
    {
     "data": {
      "text/plain": [
       "array([[1.0e+03, 2.0e-01, 2.0e-01, 1.0e-01, 1.0e+02, 2.0e-01, 1.0e+01,\n",
       "        8.5e-01],\n",
       "       [1.0e+03, 2.0e-01, 2.0e-01, 1.0e-01, 1.0e+02, 2.0e-01, 1.0e+01,\n",
       "        8.5e-01],\n",
       "       [1.0e+03, 2.0e-01, 2.0e-01, 1.0e-01, 1.0e+02, 2.0e-01, 1.0e+01,\n",
       "        8.5e-01],\n",
       "       [1.0e+03, 2.0e-01, 2.0e-01, 1.0e-01, 1.0e+02, 2.0e-01, 1.0e+01,\n",
       "        8.5e-01],\n",
       "       [1.0e+03, 2.0e-01, 2.0e-01, 1.0e-01, 1.0e+02, 2.0e-01, 1.0e+01,\n",
       "        8.5e-01],\n",
       "       [1.0e+03, 2.0e-01, 2.0e-01, 1.0e-01, 1.0e+02, 2.0e-01, 1.0e+01,\n",
       "        8.5e-01],\n",
       "       [1.0e+03, 2.0e-01, 2.0e-01, 1.0e-01, 2.0e-01, 1.0e+02, 1.0e+01,\n",
       "        8.5e-01],\n",
       "       [1.0e+03, 2.0e-01, 2.0e-01, 1.0e-01, 2.0e-01, 1.0e+02, 1.0e+01,\n",
       "        8.5e-01],\n",
       "       [1.0e+03, 2.0e-01, 2.0e-01, 1.0e-01, 2.0e-01, 1.0e+02, 1.0e+01,\n",
       "        8.5e-01],\n",
       "       [1.0e+03, 2.0e-01, 2.0e-01, 1.0e-01, 2.0e-01, 1.0e+02, 1.0e+01,\n",
       "        8.5e-01],\n",
       "       [1.0e+03, 2.0e-01, 2.0e-01, 1.0e-01, 2.0e-01, 1.0e+02, 1.0e+01,\n",
       "        8.5e-01],\n",
       "       [1.0e+03, 2.0e-01, 2.0e-01, 1.0e-01, 1.0e+02, 2.0e-01, 8.5e-01,\n",
       "        1.0e+01],\n",
       "       [1.0e+03, 2.0e-01, 2.0e-01, 1.0e-01, 1.0e+02, 2.0e-01, 8.5e-01,\n",
       "        1.0e+01],\n",
       "       [1.0e+03, 2.0e-01, 2.0e-01, 1.0e-01, 1.0e+02, 2.0e-01, 8.5e-01,\n",
       "        1.0e+01],\n",
       "       [1.0e+03, 2.0e-01, 2.0e-01, 1.0e-01, 1.0e+02, 2.0e-01, 8.5e-01,\n",
       "        1.0e+01],\n",
       "       [1.0e+03, 2.0e-01, 2.0e-01, 1.0e-01, 1.0e+02, 2.0e-01, 8.5e-01,\n",
       "        1.0e+01],\n",
       "       [1.0e+03, 2.0e-01, 2.0e-01, 1.0e-01, 9.0e-01, 2.0e-01, 8.5e-01,\n",
       "        1.0e+01],\n",
       "       [1.0e+03, 2.0e-01, 2.0e-01, 1.0e-01, 9.0e-01, 2.0e-01, 8.5e-01,\n",
       "        1.0e+01],\n",
       "       [9.0e-01, 2.0e-01, 1.0e+03, 1.0e-01, 1.0e+02, 2.0e-01, 1.0e+01,\n",
       "        1.0e-01],\n",
       "       [9.0e-01, 2.0e-01, 1.0e+03, 1.0e-01, 1.0e+02, 2.0e-01, 1.0e+01,\n",
       "        1.0e-01],\n",
       "       [9.0e-01, 2.0e-01, 1.0e+03, 1.0e-01, 1.0e+02, 2.0e-01, 1.0e+01,\n",
       "        1.0e-01],\n",
       "       [9.0e-01, 2.0e-01, 1.0e+03, 1.0e-01, 9.0e-01, 1.0e+02, 1.0e+01,\n",
       "        1.0e-01],\n",
       "       [9.0e-01, 2.0e-01, 1.0e+03, 1.0e-01, 1.0e+02, 2.0e-01, 8.5e-01,\n",
       "        1.0e+01],\n",
       "       [9.0e-01, 2.0e-01, 1.0e+03, 1.0e-01, 1.0e+02, 2.0e-01, 8.5e-01,\n",
       "        1.0e+01],\n",
       "       [9.0e-01, 2.0e-01, 1.0e+03, 1.0e-01, 1.0e+02, 2.0e-01, 8.5e-01,\n",
       "        1.0e+01],\n",
       "       [9.0e-01, 2.0e-01, 1.0e+03, 1.0e-01, 9.0e-01, 1.0e+02, 8.5e-01,\n",
       "        1.0e+01],\n",
       "       [9.0e-01, 1.0e+03, 2.0e-01, 1.0e-01, 1.0e+02, 2.0e-01, 1.0e+01,\n",
       "        1.0e-01],\n",
       "       [9.0e-01, 1.0e+03, 2.0e-01, 1.0e-01, 1.0e+02, 2.0e-01, 1.0e+01,\n",
       "        1.0e-01],\n",
       "       [9.0e-01, 1.0e+03, 2.0e-01, 1.0e-01, 1.0e+02, 2.0e-01, 1.0e+01,\n",
       "        1.0e-01],\n",
       "       [9.0e-01, 1.0e+03, 2.0e-01, 1.0e-01, 1.0e+02, 2.0e-01, 1.0e+01,\n",
       "        1.0e-01],\n",
       "       [9.0e-01, 1.0e+03, 2.0e-01, 1.0e-01, 1.0e+02, 2.0e-01, 1.0e+01,\n",
       "        1.0e-01],\n",
       "       [9.0e-01, 1.0e+03, 2.0e-01, 1.0e-01, 1.0e+02, 2.0e-01, 1.0e+01,\n",
       "        1.0e-01],\n",
       "       [9.0e-01, 1.0e+03, 2.0e-01, 1.0e-01, 9.0e-01, 1.0e+02, 1.0e+01,\n",
       "        1.0e-01],\n",
       "       [9.0e-01, 1.0e+03, 2.0e-01, 1.0e-01, 9.0e-01, 1.0e+02, 1.0e+01,\n",
       "        1.0e-01],\n",
       "       [9.0e-01, 1.0e+03, 2.0e-01, 1.0e-01, 9.0e-01, 1.0e+02, 1.0e+01,\n",
       "        1.0e-01],\n",
       "       [9.0e-01, 1.0e+03, 2.0e-01, 1.0e-01, 1.0e+02, 2.0e-01, 8.5e-01,\n",
       "        1.0e+01],\n",
       "       [9.0e-01, 1.0e+03, 2.0e-01, 1.0e-01, 1.0e+02, 2.0e-01, 8.5e-01,\n",
       "        1.0e+01],\n",
       "       [9.0e-01, 1.0e+03, 2.0e-01, 1.0e-01, 1.0e+02, 2.0e-01, 8.5e-01,\n",
       "        1.0e+01],\n",
       "       [9.0e-01, 1.0e+03, 2.0e-01, 1.0e-01, 1.0e+02, 2.0e-01, 8.5e-01,\n",
       "        1.0e+01],\n",
       "       [9.0e-01, 1.0e+03, 2.0e-01, 1.0e-01, 1.0e+02, 2.0e-01, 8.5e-01,\n",
       "        1.0e+01],\n",
       "       [9.0e-01, 1.0e+03, 2.0e-01, 1.0e-01, 9.0e-01, 1.0e+02, 8.5e-01,\n",
       "        1.0e+01],\n",
       "       [9.0e-01, 1.0e+03, 2.0e-01, 1.0e-01, 9.0e-01, 1.0e+02, 8.5e-01,\n",
       "        1.0e+01],\n",
       "       [9.0e-01, 2.0e-01, 2.0e-01, 1.0e+03, 1.0e+02, 2.0e-01, 1.0e+01,\n",
       "        1.0e-01],\n",
       "       [9.0e-01, 2.0e-01, 2.0e-01, 1.0e+03, 1.0e+02, 2.0e-01, 1.0e+01,\n",
       "        1.0e-01],\n",
       "       [9.0e-01, 2.0e-01, 2.0e-01, 1.0e+03, 1.0e+02, 2.0e-01, 1.0e+01,\n",
       "        1.0e-01],\n",
       "       [9.0e-01, 2.0e-01, 2.0e-01, 1.0e+03, 1.0e+02, 2.0e-01, 1.0e+01,\n",
       "        1.0e-01],\n",
       "       [9.0e-01, 2.0e-01, 2.0e-01, 1.0e+03, 9.0e-01, 1.0e+02, 1.0e+01,\n",
       "        1.0e-01],\n",
       "       [9.0e-01, 2.0e-01, 2.0e-01, 1.0e+03, 9.0e-01, 1.0e+02, 1.0e+01,\n",
       "        1.0e-01],\n",
       "       [9.0e-01, 2.0e-01, 2.0e-01, 1.0e+03, 1.0e+02, 2.0e-01, 8.5e-01,\n",
       "        1.0e+01],\n",
       "       [9.0e-01, 2.0e-01, 2.0e-01, 1.0e+03, 1.0e+02, 2.0e-01, 8.5e-01,\n",
       "        1.0e+01],\n",
       "       [9.0e-01, 2.0e-01, 2.0e-01, 1.0e+03, 1.0e+02, 2.0e-01, 8.5e-01,\n",
       "        1.0e+01],\n",
       "       [9.0e-01, 2.0e-01, 2.0e-01, 1.0e+03, 9.0e-01, 1.0e+02, 8.5e-01,\n",
       "        1.0e+01],\n",
       "       [9.0e-01, 2.0e-01, 2.0e-01, 1.0e+03, 9.0e-01, 1.0e+02, 8.5e-01,\n",
       "        1.0e+01]])"
      ]
     },
     "execution_count": 17,
     "metadata": {},
     "output_type": "execute_result"
    }
   ],
   "source": [
    "## First lets create a Pivot matrix\n",
    "\n",
    "#movie_features_df=rating_popular_movie.pivot_table(index='title',columns='userId',values='rating').fillna(0)\n",
    "#movie_features_df.head()\n",
    "cols = list(pd.read_csv(\"workout_1.csv\", nrows =1))\n",
    "print(cols)\n",
    "# Use list comprehension to remove the unwanted column in **usecol**\n",
    "work_matrix= pd.read_csv(\"workout_1.csv\", usecols =[i for i in cols if (i != 'workout' and i!='link')])\n",
    "work_matrix=np.array(work_matrix, dtype=np.float)\n",
    "work_matrix"
   ]
  },
  {
   "cell_type": "code",
   "execution_count": 18,
   "metadata": {},
   "outputs": [
    {
     "data": {
      "text/plain": [
       "array(['Basic Workout', 'Mat Workout', 'Standing Workout',\n",
       "       'Basic Balance Challenge', 'Twist Workout',\n",
       "       'Basic Strength Training Workout for Runners',\n",
       "       \"Beginner's Challenge\", 'Yogilates Workout',\n",
       "       'Total Body Mat Workout', 'Standing Workout Challenge',\n",
       "       'Focused Workout', 'Advanced Workout', 'Body Weight Challenge',\n",
       "       'Advanced Mat Workout', 'Advanced Standing Workout',\n",
       "       'Advanced Balance Challenge', 'Full Body Challenge',\n",
       "       'Advanced Workout', 'Standing Workout', 'Body Weight Workout',\n",
       "       'Mat Workout', 'Body Weight Workout', 'Wall Pushups Workout',\n",
       "       'Mat Workout', 'Powerful Pushups Workout', 'Body Weight Challenge',\n",
       "       'Lower Body Toner', 'Chair Workout', 'Mat Workout',\n",
       "       \"Beginner's Workout\", 'Booty Workout', 'Hip Slimming Workout',\n",
       "       'Body Weight Workout', 'Mat Workout', 'Twist Workout',\n",
       "       'Advanced Lower Body Toner', 'Squat & Lunge Workout',\n",
       "       'Step Up Workout', 'Advanced Mat Workout', 'Balance Challenge',\n",
       "       'Single Side Workout', 'Lower Body Burn', 'Mat Workout',\n",
       "       'Abs Workout', 'Standing Core Challenge', 'Yogilates Workout',\n",
       "       'Core Concentration', 'Abs Challenge', 'Core Workout',\n",
       "       'Mat Workout', 'Advanced Yogilates Workout',\n",
       "       'Complete Core Challenge', 'Hard Core Ball Challenge'],\n",
       "      dtype='<U64')"
      ]
     },
     "execution_count": 18,
     "metadata": {},
     "output_type": "execute_result"
    }
   ],
   "source": [
    "name_array= pd.read_csv(\"workout_1.csv\", usecols =[i for i in cols if i == 'workout'])\n",
    "name_array=np.array(name_array, dtype=np.str)\n",
    "name_array=name_array.flatten()\n",
    "name_array\n",
    "#work_matrix.shape"
   ]
  },
  {
   "cell_type": "code",
   "execution_count": 19,
   "metadata": {},
   "outputs": [
    {
     "name": "stdout",
     "output_type": "stream",
     "text": [
      "(53, 8)\n"
     ]
    },
    {
     "data": {
      "text/plain": [
       "NearestNeighbors(algorithm='brute', leaf_size=30, metric='cosine',\n",
       "         metric_params=None, n_jobs=None, n_neighbors=5, p=2, radius=1.0)"
      ]
     },
     "execution_count": 19,
     "metadata": {},
     "output_type": "execute_result"
    }
   ],
   "source": [
    "from scipy.sparse import csr_matrix\n",
    "\n",
    "features_matrix = csr_matrix(work_matrix)\n",
    "print(features_matrix.shape)\n",
    "\n",
    "from sklearn.neighbors import NearestNeighbors\n",
    "\n",
    "\n",
    "model_knn = NearestNeighbors(metric = 'cosine', algorithm = 'brute')\n",
    "model_knn.fit(features_matrix)"
   ]
  },
  {
   "cell_type": "code",
   "execution_count": 20,
   "metadata": {},
   "outputs": [
    {
     "data": {
      "text/plain": [
       "(53, 8)"
      ]
     },
     "execution_count": 20,
     "metadata": {},
     "output_type": "execute_result"
    }
   ],
   "source": [
    "work_matrix.shape\n"
   ]
  },
  {
   "cell_type": "code",
   "execution_count": 31,
   "metadata": {},
   "outputs": [
    {
     "name": "stdout",
     "output_type": "stream",
     "text": [
      "48\n",
      "[[2.22044605e-16 2.22044605e-16 2.22044605e-16 2.22044605e-16\n",
      "  2.22044605e-16 2.22044605e-16]] [[30 28 26 29 27 31]]\n"
     ]
    }
   ],
   "source": [
    "query_index = np.random.choice(work_matrix.shape[0])\n",
    "print(query_index)\n",
    "distances, indices = model_knn.kneighbors(work_matrix[26].reshape(1, -1), n_neighbors = 6)\n",
    "print(distances,indices)"
   ]
  },
  {
   "cell_type": "code",
   "execution_count": 32,
   "metadata": {
    "scrolled": true
   },
   "outputs": [
    {
     "data": {
      "text/html": [
       "<div>\n",
       "<style scoped>\n",
       "    .dataframe tbody tr th:only-of-type {\n",
       "        vertical-align: middle;\n",
       "    }\n",
       "\n",
       "    .dataframe tbody tr th {\n",
       "        vertical-align: top;\n",
       "    }\n",
       "\n",
       "    .dataframe thead th {\n",
       "        text-align: right;\n",
       "    }\n",
       "</style>\n",
       "<table border=\"1\" class=\"dataframe\">\n",
       "  <thead>\n",
       "    <tr style=\"text-align: right;\">\n",
       "      <th></th>\n",
       "      <th>workout</th>\n",
       "      <th>link</th>\n",
       "      <th>full_body</th>\n",
       "      <th>lower_body</th>\n",
       "      <th>upper_body</th>\n",
       "      <th>core</th>\n",
       "      <th>time1</th>\n",
       "      <th>time2</th>\n",
       "      <th>beginner</th>\n",
       "      <th>advanced</th>\n",
       "    </tr>\n",
       "  </thead>\n",
       "  <tbody>\n",
       "    <tr>\n",
       "      <th>0</th>\n",
       "      <td>Basic Workout</td>\n",
       "      <td>www.sparkpeople.com/resource/fitness_plan_gene...</td>\n",
       "      <td>1000.0</td>\n",
       "      <td>0.2</td>\n",
       "      <td>0.2</td>\n",
       "      <td>0.1</td>\n",
       "      <td>100.0</td>\n",
       "      <td>0.2</td>\n",
       "      <td>10.0</td>\n",
       "      <td>0.85</td>\n",
       "    </tr>\n",
       "    <tr>\n",
       "      <th>1</th>\n",
       "      <td>Mat Workout</td>\n",
       "      <td>https://www.sparkpeople.com/resource/fitness_p...</td>\n",
       "      <td>1000.0</td>\n",
       "      <td>0.2</td>\n",
       "      <td>0.2</td>\n",
       "      <td>0.1</td>\n",
       "      <td>100.0</td>\n",
       "      <td>0.2</td>\n",
       "      <td>10.0</td>\n",
       "      <td>0.85</td>\n",
       "    </tr>\n",
       "    <tr>\n",
       "      <th>2</th>\n",
       "      <td>Standing Workout</td>\n",
       "      <td>https://www.sparkpeople.com/resource/fitness_p...</td>\n",
       "      <td>1000.0</td>\n",
       "      <td>0.2</td>\n",
       "      <td>0.2</td>\n",
       "      <td>0.1</td>\n",
       "      <td>100.0</td>\n",
       "      <td>0.2</td>\n",
       "      <td>10.0</td>\n",
       "      <td>0.85</td>\n",
       "    </tr>\n",
       "    <tr>\n",
       "      <th>3</th>\n",
       "      <td>Basic Balance Challenge</td>\n",
       "      <td>https://www.sparkpeople.com/resource/fitness_p...</td>\n",
       "      <td>1000.0</td>\n",
       "      <td>0.2</td>\n",
       "      <td>0.2</td>\n",
       "      <td>0.1</td>\n",
       "      <td>100.0</td>\n",
       "      <td>0.2</td>\n",
       "      <td>10.0</td>\n",
       "      <td>0.85</td>\n",
       "    </tr>\n",
       "    <tr>\n",
       "      <th>4</th>\n",
       "      <td>Twist Workout</td>\n",
       "      <td>https://www.sparkpeople.com/resource/fitness_p...</td>\n",
       "      <td>1000.0</td>\n",
       "      <td>0.2</td>\n",
       "      <td>0.2</td>\n",
       "      <td>0.1</td>\n",
       "      <td>100.0</td>\n",
       "      <td>0.2</td>\n",
       "      <td>10.0</td>\n",
       "      <td>0.85</td>\n",
       "    </tr>\n",
       "  </tbody>\n",
       "</table>\n",
       "</div>"
      ],
      "text/plain": [
       "                   workout                                               link  \\\n",
       "0            Basic Workout  www.sparkpeople.com/resource/fitness_plan_gene...   \n",
       "1              Mat Workout  https://www.sparkpeople.com/resource/fitness_p...   \n",
       "2         Standing Workout  https://www.sparkpeople.com/resource/fitness_p...   \n",
       "3  Basic Balance Challenge  https://www.sparkpeople.com/resource/fitness_p...   \n",
       "4            Twist Workout  https://www.sparkpeople.com/resource/fitness_p...   \n",
       "\n",
       "   full_body  lower_body  upper_body  core  time1  time2  beginner  advanced  \n",
       "0     1000.0         0.2         0.2   0.1  100.0    0.2      10.0      0.85  \n",
       "1     1000.0         0.2         0.2   0.1  100.0    0.2      10.0      0.85  \n",
       "2     1000.0         0.2         0.2   0.1  100.0    0.2      10.0      0.85  \n",
       "3     1000.0         0.2         0.2   0.1  100.0    0.2      10.0      0.85  \n",
       "4     1000.0         0.2         0.2   0.1  100.0    0.2      10.0      0.85  "
      ]
     },
     "execution_count": 32,
     "metadata": {},
     "output_type": "execute_result"
    }
   ],
   "source": [
    "workout_db.head()"
   ]
  },
  {
   "cell_type": "code",
   "execution_count": 33,
   "metadata": {},
   "outputs": [
    {
     "name": "stdout",
     "output_type": "stream",
     "text": [
      "Lower Body Toner \n",
      "\n",
      "Booty Workout distance from query = 2.220446049250313e-16\n",
      "Mat Workout distance from query = 2.220446049250313e-16\n",
      "Lower Body Toner distance from query = 2.220446049250313e-16\n",
      "Beginner's Workout distance from query = 2.220446049250313e-16\n",
      "Chair Workout distance from query = 2.220446049250313e-16\n",
      "Hip Slimming Workout distance from query = 2.220446049250313e-16\n"
     ]
    }
   ],
   "source": [
    "print(name_array[26],\"\\n\")\n",
    "index=indices.flatten()\n",
    "for i in range(len(distances.flatten())):\n",
    "    if index[i]!=query_index:\n",
    "        print(name_array[index[i]]+ ' distance from query = '+ str(distances.flatten()[i]))\n"
   ]
  },
  {
   "cell_type": "code",
   "execution_count": null,
   "metadata": {},
   "outputs": [],
   "source": []
  },
  {
   "cell_type": "code",
   "execution_count": null,
   "metadata": {},
   "outputs": [],
   "source": []
  }
 ],
 "metadata": {
  "kernelspec": {
   "display_name": "Python 3",
   "language": "python",
   "name": "python3"
  },
  "language_info": {
   "codemirror_mode": {
    "name": "ipython",
    "version": 3
   },
   "file_extension": ".py",
   "mimetype": "text/x-python",
   "name": "python",
   "nbconvert_exporter": "python",
   "pygments_lexer": "ipython3",
   "version": "3.7.3"
  }
 },
 "nbformat": 4,
 "nbformat_minor": 2
}
